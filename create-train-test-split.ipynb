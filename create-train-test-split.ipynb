{
 "cells": [
  {
   "cell_type": "code",
   "execution_count": null,
   "id": "AWqq7m6PWWoc",
   "metadata": {
    "colab": {
     "base_uri": "https://localhost:8080/",
     "height": 0
    },
    "executionInfo": {
     "elapsed": 19027,
     "status": "ok",
     "timestamp": 1698833789857,
     "user": {
      "displayName": "marco amerotti",
      "userId": "18074794572726120264"
     },
     "user_tz": -60
    },
    "id": "AWqq7m6PWWoc",
    "outputId": "336201d5-6be5-4747-e188-0f774871589a"
   },
   "outputs": [
    {
     "name": "stdout",
     "output_type": "stream",
     "text": [
      "Collecting git+https://github.com/openai/CLIP.git\n",
      "  Cloning https://github.com/openai/CLIP.git to /var/tmp/pip-req-build-tblz7ahb\n",
      "  Running command git clone --filter=blob:none --quiet https://github.com/openai/CLIP.git /var/tmp/pip-req-build-tblz7ahb\n",
      "  Resolved https://github.com/openai/CLIP.git to commit a1d071733d7111c9c014f024669f959182114e33\n",
      "  Preparing metadata (setup.py) ... \u001b[?25ldone\n",
      "\u001b[?25hRequirement already satisfied: ftfy in /opt/conda/envs/pytorch/lib/python3.10/site-packages (from clip==1.0) (6.1.1)\n",
      "Requirement already satisfied: regex in /opt/conda/envs/pytorch/lib/python3.10/site-packages (from clip==1.0) (2023.10.3)\n",
      "Requirement already satisfied: tqdm in /opt/conda/envs/pytorch/lib/python3.10/site-packages (from clip==1.0) (4.66.1)\n",
      "Requirement already satisfied: torch in /opt/conda/envs/pytorch/lib/python3.10/site-packages (from clip==1.0) (1.13.1)\n",
      "Requirement already satisfied: torchvision in /opt/conda/envs/pytorch/lib/python3.10/site-packages (from clip==1.0) (0.14.1)\n",
      "Requirement already satisfied: wcwidth>=0.2.5 in /opt/conda/envs/pytorch/lib/python3.10/site-packages (from ftfy->clip==1.0) (0.2.6)\n",
      "Requirement already satisfied: typing-extensions in /opt/conda/envs/pytorch/lib/python3.10/site-packages (from torch->clip==1.0) (4.7.1)\n",
      "Requirement already satisfied: nvidia-cuda-runtime-cu11==11.7.99 in /opt/conda/envs/pytorch/lib/python3.10/site-packages (from torch->clip==1.0) (11.7.99)\n",
      "Requirement already satisfied: nvidia-cudnn-cu11==8.5.0.96 in /opt/conda/envs/pytorch/lib/python3.10/site-packages (from torch->clip==1.0) (8.5.0.96)\n",
      "Requirement already satisfied: nvidia-cublas-cu11==11.10.3.66 in /opt/conda/envs/pytorch/lib/python3.10/site-packages (from torch->clip==1.0) (11.10.3.66)\n",
      "Requirement already satisfied: nvidia-cuda-nvrtc-cu11==11.7.99 in /opt/conda/envs/pytorch/lib/python3.10/site-packages (from torch->clip==1.0) (11.7.99)\n",
      "Requirement already satisfied: setuptools in /opt/conda/envs/pytorch/lib/python3.10/site-packages (from nvidia-cublas-cu11==11.10.3.66->torch->clip==1.0) (68.1.2)\n",
      "Requirement already satisfied: wheel in /opt/conda/envs/pytorch/lib/python3.10/site-packages (from nvidia-cublas-cu11==11.10.3.66->torch->clip==1.0) (0.41.2)\n",
      "Requirement already satisfied: numpy in /opt/conda/envs/pytorch/lib/python3.10/site-packages (from torchvision->clip==1.0) (1.23.5)\n",
      "Requirement already satisfied: requests in /opt/conda/envs/pytorch/lib/python3.10/site-packages (from torchvision->clip==1.0) (2.31.0)\n",
      "Requirement already satisfied: pillow!=8.3.*,>=5.3.0 in /opt/conda/envs/pytorch/lib/python3.10/site-packages (from torchvision->clip==1.0) (10.0.0)\n",
      "Requirement already satisfied: charset-normalizer<4,>=2 in /opt/conda/envs/pytorch/lib/python3.10/site-packages (from requests->torchvision->clip==1.0) (3.2.0)\n",
      "Requirement already satisfied: idna<4,>=2.5 in /opt/conda/envs/pytorch/lib/python3.10/site-packages (from requests->torchvision->clip==1.0) (3.4)\n",
      "Requirement already satisfied: urllib3<3,>=1.21.1 in /opt/conda/envs/pytorch/lib/python3.10/site-packages (from requests->torchvision->clip==1.0) (1.26.16)\n",
      "Requirement already satisfied: certifi>=2017.4.17 in /opt/conda/envs/pytorch/lib/python3.10/site-packages (from requests->torchvision->clip==1.0) (2023.7.22)\n"
     ]
    }
   ],
   "source": [
    "!pip install git+https://github.com/openai/CLIP.git"
   ]
  },
  {
   "cell_type": "code",
   "execution_count": null,
   "id": "708c6ccb-40ac-4138-8490-bcccc2da904d",
   "metadata": {
    "executionInfo": {
     "elapsed": 6481,
     "status": "ok",
     "timestamp": 1698833830942,
     "user": {
      "displayName": "marco amerotti",
      "userId": "18074794572726120264"
     },
     "user_tz": -60
    },
    "id": "708c6ccb-40ac-4138-8490-bcccc2da904d"
   },
   "outputs": [],
   "source": [
    "from collections import Counter\n",
    "import pandas as pd\n",
    "import clip\n",
    "from sklearn.model_selection import train_test_split\n",
    "import numpy as np"
   ]
  },
  {
   "cell_type": "code",
   "execution_count": null,
   "id": "P_QD30QcVpp7",
   "metadata": {
    "colab": {
     "base_uri": "https://localhost:8080/",
     "height": 0
    },
    "executionInfo": {
     "elapsed": 25400,
     "status": "ok",
     "timestamp": 1698833856326,
     "user": {
      "displayName": "marco amerotti",
      "userId": "18074794572726120264"
     },
     "user_tz": -60
    },
    "id": "P_QD30QcVpp7",
    "outputId": "5bd4993c-29a4-436a-daac-75c446c05a29"
   },
   "outputs": [],
   "source": [
    "# from google.colab import drive\n",
    "# drive.mount('/content/drive')"
   ]
  },
  {
   "cell_type": "code",
   "execution_count": null,
   "id": "11f2509c-c4ef-4cae-80bc-34bc20e1ae9f",
   "metadata": {
    "executionInfo": {
     "elapsed": 40567,
     "status": "ok",
     "timestamp": 1698834043421,
     "user": {
      "displayName": "marco amerotti",
      "userId": "18074794572726120264"
     },
     "user_tz": -60
    },
    "id": "11f2509c-c4ef-4cae-80bc-34bc20e1ae9f"
   },
   "outputs": [],
   "source": [
    "# Loading the dataset\n",
    "articles = pd.read_csv('articles.csv')\n",
    "#print(articles.iloc[0])\n",
    "subset = articles\n",
    "\n",
    "'''\n",
    "# drop items that have the same description\n",
    "subset = articles.drop_duplicates(\"detail_desc\").copy()\n",
    "\n",
    "# remove items of unkown category\n",
    "subset = subset[~subset[\"product_group_name\"].isin([\"Unknown\"])]\n",
    "'''\n",
    "\n",
    "def longer_than(x, max_length):\n",
    "\n",
    "  try:\n",
    "    LEN = 500\n",
    "    # use clip tokenizer with a very large value to be sure\n",
    "    tokens = clip.tokenize(x, context_length=LEN).cpu().numpy()\n",
    "    # empty positions are tagged with 0s e.g. [1, 4, 2, 6, 78, 3, 0, 0, 0, 0, 0, 0, 0...]\n",
    "    # minimum with [1, 1, 1, 1, 1...] gives you [1, 1, 1, 1, 1, 1, 0, 0, 0, 0, 0, 0, 0...]\n",
    "    # summing this gives you the length\n",
    "    length = np.minimum(tokens, np.ones(LEN)).sum()\n",
    "  except:\n",
    "    return False\n",
    "  return length <= max_length\n",
    "\n",
    "\n",
    "# Drop items that have a description longer than 77 tokens\n",
    "subset = subset[subset[\"detail_desc\"].apply(lambda x : longer_than(x, 77))]\n",
    "\n",
    "# We also drop products types that do not occur very frequently in this subset of data\n",
    "most_frequent_product_types = [k for k, v in dict(Counter(subset[\"product_type_name\"].tolist())).items() if v > 10]\n",
    "subset = subset[subset[\"product_type_name\"].isin(most_frequent_product_types)]"
   ]
  },
  {
   "cell_type": "code",
   "execution_count": null,
   "id": "af3d7455-0a0c-4e07-9759-6bbafd32ea1c",
   "metadata": {
    "executionInfo": {
     "elapsed": 1664,
     "status": "ok",
     "timestamp": 1698834098409,
     "user": {
      "displayName": "marco amerotti",
      "userId": "18074794572726120264"
     },
     "user_tz": -60
    },
    "id": "af3d7455-0a0c-4e07-9759-6bbafd32ea1c"
   },
   "outputs": [],
   "source": [
    "# Create train / test subsets\n",
    "train_subset, test_subset = train_test_split(subset, test_size=0.2, random_state=42)\n",
    "\n",
    "# Save them\n",
    "train_subset.to_csv(\"train_subset.csv\", index=False)\n",
    "test_subset.to_csv(\"test_subset.csv\", index=False)"
   ]
  },
  {
   "cell_type": "code",
   "execution_count": null,
   "id": "aec42fff-c01a-4217-af29-194a62ad0b54",
   "metadata": {},
   "outputs": [],
   "source": [
    "# Create a subset without duplicate detail_desc\n",
    "subset_no_duplicates = subset.drop_duplicates(\"detail_desc\").copy()\n",
    "\n",
    "# Drop duplicate detail_desc (i.e. same item but often different color etc.)\n",
    "train_subset_no_duplicates, test_subset_no_duplicates = train_test_split(subset_no_duplicates, test_size=0.2, random_state=42)\n",
    "\n",
    "# Save them\n",
    "train_subset_no_duplicates.to_csv(\"train_subset_no_duplicates.csv\", index=False)\n",
    "test_subset_no_duplicates.to_csv(\"test_subset_no_duplicates.csv\", index=False)"
   ]
  },
  {
   "cell_type": "code",
   "execution_count": null,
   "id": "98113cab-2f48-48c4-95d1-8f5a80c1ff4e",
   "metadata": {
    "colab": {
     "base_uri": "https://localhost:8080/"
    },
    "executionInfo": {
     "elapsed": 722,
     "status": "ok",
     "timestamp": 1698834180040,
     "user": {
      "displayName": "marco amerotti",
      "userId": "18074794572726120264"
     },
     "user_tz": -60
    },
    "id": "98113cab-2f48-48c4-95d1-8f5a80c1ff4e",
    "outputId": "b4700d96-b3cc-4e29-9cd6-cd51287392cb"
   },
   "outputs": [
    {
     "name": "stdout",
     "output_type": "stream",
     "text": [
      "82793\n",
      "20699\n",
      "33969\n",
      "8493\n"
     ]
    }
   ],
   "source": [
    "print(len(train_subset))\n",
    "print(len(test_subset))\n",
    "\n",
    "print(len(train_subset_no_duplicates))\n",
    "print(len(test_subset_no_duplicates))"
   ]
  }
 ],
 "metadata": {
  "accelerator": "GPU",
  "colab": {
   "gpuType": "T4",
   "provenance": []
  },
  "environment": {
   "kernel": "conda-env-pytorch-pytorch",
   "name": "workbench-notebooks.m111",
   "type": "gcloud",
   "uri": "gcr.io/deeplearning-platform-release/workbench-notebooks:m111"
  },
  "kernelspec": {
   "display_name": "PyTorch 1-13",
   "language": "python",
   "name": "conda-env-pytorch-pytorch"
  },
  "language_info": {
   "codemirror_mode": {
    "name": "ipython",
    "version": 3
   },
   "file_extension": ".py",
   "mimetype": "text/x-python",
   "name": "python",
   "nbconvert_exporter": "python",
   "pygments_lexer": "ipython3",
   "version": "3.10.12"
  }
 },
 "nbformat": 4,
 "nbformat_minor": 5
}
